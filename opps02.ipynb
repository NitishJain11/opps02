{
  "cells": [
    {
      "cell_type": "code",
      "execution_count": 3,
      "metadata": {
        "trusted": true
      },
      "outputs": [
        {
          "name": "stdout",
          "output_type": "stream",
          "text": [
            "In Math class\n",
            "In English class\n"
          ]
        }
      ],
      "source": [
        "# Q1. What is Abstraction in OOps? Explain with an example.\n",
        "\n",
        "\n",
        "#ANSWER ->\n",
        "\n",
        "# Abstraction in OOPs is the process of hiding the complexity of a system by representing only the essential features of the system and presenting in the form of \n",
        "# buleprint, and ignoring the details that are not necessary for the current context. It allows us to focus on the most important aspects of the system, and simplify\n",
        "# the way we interact with it.\n",
        "\n",
        "# Abstraction is achieved in OOPs through the use of abstract classes and interfaces. An abstract class is a class that cannot be instantiated on its own,\n",
        "# but serves as a base class for other classes to inherit from. An interface, on the other hand, is a collection of abstract methods that can be implemented\n",
        "# by any class that implements the interface.\n",
        "\n",
        "from abc import ABC, abstractmethod\n",
        "\n",
        "class school(ABC):\n",
        "    @abstractmethod\n",
        "    def In_class(self):\n",
        "        pass\n",
        "\n",
        "class Class_A(school):\n",
        "    def In_class(self):\n",
        "        return \"In Math class\"\n",
        "\n",
        "class Class_B(school):\n",
        "    def In_class(self):\n",
        "        return \"In English class\"\n",
        "\n",
        "Rahul = Class_A()\n",
        "Mahima = Class_B()\n",
        "\n",
        "print(Rahul.In_class()) \n",
        "print(Mahima.In_class())  \n",
        "\n",
        "\n"
      ]
    },
    {
      "cell_type": "code",
      "execution_count": 8,
      "metadata": {
        "trusted": true
      },
      "outputs": [
        {
          "name": "stdout",
          "output_type": "stream",
          "text": [
            "Thar\n",
            "140\n",
            "20,000$\n"
          ]
        }
      ],
      "source": [
        "# Q2-> Differentiate between Abstraction and Encapsulation. Explain with an example.\n",
        "\n",
        "# ANSWER->\n",
        "\n",
        "# Abstraction:\n",
        "\n",
        "# Abstraction is the process of hiding the complexity of a system and make skeliton of class by representing only the essential features of the system, and ignoring the details that are \n",
        "# not necessary for the current context.\n",
        "# Abstraction is achieved in OOPs through the use of abstract classes and interfaces.\n",
        "# Abstraction focuses on the \"what\" of a system, rather than the \"how\".\n",
        "# Encapsulation:\n",
        "\n",
        "# Encapsulation is the process of bundling data and methods that operate on that data into a single unit, and restricting access to that unit from outside.\n",
        "# Encapsulation is achieved in OOPs through the use of classes and access modifiers such as private, protected, and public.\n",
        "# Encapsulation focuses on the \"how\" of a system, rather than the \"what\".\n",
        "\n",
        "\n",
        "class Car(ABC):\n",
        "    def __init__(self,name_of_car,speed_of_car,price_of_car):\n",
        "        self.name_of_car=name_of_car\n",
        "        self.speed_of_car=speed_of_car \n",
        "        self._price_of_car = price_of_car # Encapsulation\n",
        "\n",
        "    @abstractmethod\n",
        "    def car(self):\n",
        "        pass\n",
        "    @abstractmethod\n",
        "    def max_speed(self):\n",
        "        pass\n",
        "\n",
        "class SUV(Car):\n",
        "    def car(self):\n",
        "        return self.name_of_car\n",
        "    def max_speed(self):\n",
        "        return self.speed_of_car\n",
        "    def get_price(self):\n",
        "        return self._price_of_car\n",
        "\n",
        "mahindra = SUV(\"Thar\",\"140\",\"20,000$\")\n",
        "print(mahindra.car())\n",
        "print(mahindra.max_speed())\n",
        "print(mahindra.get_price())"
      ]
    },
    {
      "cell_type": "code",
      "execution_count": 9,
      "metadata": {
        "trusted": true
      },
      "outputs": [
        {
          "name": "stdout",
          "output_type": "stream",
          "text": [
            "In Math class\n",
            "In English class\n"
          ]
        }
      ],
      "source": [
        "# Q3-> What is abc module in python? Why is it used?\n",
        "\n",
        "# ANSWER->\n",
        "\n",
        "# The abc module provides the ABCMeta class, which can be used to define abstract base classes in Python. To define an abstract base class, you can use \n",
        "# the @abc.abstractmethod decorator to mark the methods that must be implemented by the derived classes.\n",
        "\n",
        "\n",
        "# The abc module is used to ensure that the derived classes implement the required methods and properties of the abstract base class. If a derived class \n",
        "# does not implement all the abstract methods of the base class, a TypeError is raised.\n",
        "\n",
        "# The abc module is often used in combination with polymorphism to create more flexible and maintainable code. By defining abstract base classes, you can\n",
        "# create a common interface for a group of related classes, which makes it easier to write code that can work with any of these classes.\n",
        "\n",
        "\n",
        "from abc import ABC, abstractmethod\n",
        "\n",
        "class school(ABC):\n",
        "    @abstractmethod\n",
        "    def In_class(self):\n",
        "        pass\n",
        "\n",
        "class Class_A(school):\n",
        "    def In_class(self):\n",
        "        return \"In Math class\"\n",
        "\n",
        "class Class_B(school):\n",
        "    def In_class(self):\n",
        "        return \"In English class\"\n",
        "\n",
        "Rahul = Class_A()\n",
        "Mahima = Class_B()\n",
        "\n",
        "print(Rahul.In_class()) \n",
        "print(Mahima.In_class())"
      ]
    },
    {
      "cell_type": "code",
      "execution_count": 12,
      "metadata": {
        "trusted": true
      },
      "outputs": [
        {
          "name": "stdout",
          "output_type": "stream",
          "text": [
            "Thar\n",
            "140\n",
            "20,000$ this the example of data abstraction\n"
          ]
        }
      ],
      "source": [
        "# Q4-> How can we achieve data abstraction?\n",
        "\n",
        "# ANSWER ->\n",
        "\n",
        "# Data abstraction is a technique in object-oriented programming that allows you to hide the implementation details of a class and only expose the \n",
        "# necessary data and behavior to the outside world. This can be achieved by using access modifiers to control the visibility of the class members.\n",
        "\n",
        "# In Python, you can use the 'private' and 'protected' access modifiers to achieve data abstraction\n",
        "\n",
        "class Car(ABC):\n",
        "    def __init__(self,name_of_car,speed_of_car,price_of_car):\n",
        "        self.name_of_car=name_of_car\n",
        "        self.speed_of_car=speed_of_car \n",
        "        self._price_of_car = price_of_car \n",
        "\n",
        "    @abstractmethod\n",
        "    def car(self):\n",
        "        pass\n",
        "    @abstractmethod\n",
        "    def max_speed(self):\n",
        "        pass\n",
        "\n",
        "class SUV(Car):\n",
        "    def car(self):\n",
        "        return self.name_of_car\n",
        "    def max_speed(self):\n",
        "        return self.speed_of_car\n",
        "    def get_price(self):          # data abstraction method\n",
        "        return self._price_of_car\n",
        "\n",
        "mahindra = SUV(\"Thar\",\"140\",\"20,000$\")\n",
        "print(mahindra.car())\n",
        "print(mahindra.max_speed())\n",
        "print(mahindra.get_price(),\"this the example of data abstraction\") # data abstraction\n"
      ]
    },
    {
      "cell_type": "code",
      "execution_count": null,
      "metadata": {},
      "outputs": [],
      "source": [
        "# Q5. Can we create an instance of an abstract class? Explain your answer.\n",
        "\n",
        "ANSWER->\n",
        "\n",
        "No, we cannot create an instance of an abstract class in most programming languages.\n",
        "\n",
        "An abstract class is a class that is meant to be used as a base class for other classes, but cannot be instantiated on its own because it has one or\n",
        "more abstract methods that have no implementation. An abstract method is a method without any implementation, and it only has a method signature. \n",
        "The implementation of an abstract method is left to the derived class that inherits from the abstract class.\n",
        "\n",
        "Since the abstract class contains one or more abstract methods, it is not fully implemented, and it cannot be instantiated directly. It is meant \n",
        "to be used as a blueprint for other classes, which will inherit from the abstract class and implement the abstract methods.\n",
        "\n",
        "In most programming languages, if you try to create an instance of an abstract class, you will get a compilation error or a runtime error. However, \n",
        "you can create an instance of a concrete class that inherits from the abstract class and provides an implementation for all the abstract methods.\n",
        "\n",
        "from abc import ABC, abstractmethod\n",
        "\n",
        "class Vehicle(ABC):\n",
        "    @abstractmethod\n",
        "    def start(self):\n",
        "        pass\n",
        "\n",
        "class Car(Vehicle):\n",
        "    def start(self):\n",
        "        print(\"Starting car\")\n",
        "\n",
        "car = Car()\n",
        "car.start() # Output: Starting car\n",
        "vehicle = Vehicle() # This will result in a TypeError because we can't create an instance of an abstract class\n"
      ]
    }
  ],
  "metadata": {
    "kernelspec": {
      "display_name": "Python (Pyodide)",
      "language": "python",
      "name": "python"
    },
    "language_info": {
      "codemirror_mode": {
        "name": "python",
        "version": 3
      },
      "file_extension": ".py",
      "mimetype": "text/x-python",
      "name": "python",
      "nbconvert_exporter": "python",
      "pygments_lexer": "ipython3",
      "version": "3.8"
    }
  },
  "nbformat": 4,
  "nbformat_minor": 4
}
